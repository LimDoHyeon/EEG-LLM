{
 "cells": [
  {
   "cell_type": "code",
   "id": "initial_id",
   "metadata": {
    "collapsed": true,
    "ExecuteTime": {
     "end_time": "2024-09-15T06:58:28.741719Z",
     "start_time": "2024-09-15T06:58:28.737730Z"
    }
   },
   "source": [
    "import mne\n",
    "import numpy as np\n",
    "import pandas as pd\n",
    "import json"
   ],
   "outputs": [],
   "execution_count": 3
  },
  {
   "metadata": {
    "ExecuteTime": {
     "end_time": "2024-09-15T06:58:48.466094Z",
     "start_time": "2024-09-15T06:58:48.454837Z"
    }
   },
   "cell_type": "code",
   "source": [
    "\n",
    "\"\"\"\n",
    "Additional filtering is not required as the data is already preprocessed.\n",
    "\"\"\"\n",
    "\n",
    "\n",
    "def load_eeg_data(file_path):\n",
    "    \"\"\"\n",
    "    Load EEG data from a csv file and separate data and label.\n",
    "    :param file_path: File path of the EEG data\n",
    "    :return: EEG data (DataFrame), label\n",
    "    \"\"\"\n",
    "    data_src = pd.read_csv(file_path)\n",
    "    data = data_src.iloc[:, :-1]  # Exclude the last column as it is a label\n",
    "    label = data_src.iloc[:, -1]  # Use the last column as a label\n",
    "    return data, label\n",
    "\n",
    "\n",
    "def compute_band_power(raw, band):\n",
    "    \"\"\"\n",
    "    Compute the power in a specific frequency band.\n",
    "    :param raw: MNE Raw object\n",
    "    :param band: Frequency band of interest (tuple)\n",
    "    :return: Power in the frequency band\n",
    "    \"\"\"\n",
    "    fmin, fmax = band  # Setting frequency band\n",
    "    data = raw.get_data()\n",
    "    sfreq = raw.info['sfreq']\n",
    "    psds, freqs = mne.time_frequency.psd_array_welch(data, sfreq=sfreq, fmin=fmin, fmax=fmax, n_fft=128)  # Compute PSD\n",
    "    # Compute power in the frequency band\n",
    "    band_power = np.sum(psds, axis=-1)\n",
    "    return band_power"
   ],
   "id": "c827f69dc162fe13",
   "outputs": [
    {
     "data": {
      "text/plain": [
       "'\\ndef extract_features(data, selected_columns, sfreq=250):\\n    \"\"\\n    Extract features from EEG data. Furthermore, the data is downsampled to the target sampling frequency.\\n    :param data: EEG data (DataFrame)\\n    :param selected_columns: List of tuples containing channel index and frequency bands\\n    :param sfreq: Sampling frequency of the data\\n    :param target_sfreq: Target sampling frequency\\n    :return: Extracted features (DataFrame)\\n    \"\"\\n    feature_dict = {}  # 결과를 저장할 딕셔너리\\n\\n    for item in selected_columns:\\n        channel_idx = item[0]  # 채널 인덱스\\n        bands = item[1]  # 해당 채널에서 추출할 주파수 대역 리스트\\n\\n        # 주파수 대역이 하나만 주어졌을 때도 리스트로 처리\\n        if isinstance(bands, tuple):\\n            bands = [bands]\\n\\n        # 채널의 데이터 추출\\n        eeg_data = data.iloc[:, channel_idx].values  # 특정 채널의 데이터를 가져옴\\n        ch_name = data.columns[channel_idx]  # 채널 이름\\n\\n        # mne RawArray 객체 생성\\n        info = mne.create_info(ch_names=[ch_name], sfreq=sfreq, ch_types=\\'eeg\\')\\n        raw = mne.io.RawArray(eeg_data[np.newaxis, :], info)  # 2D array 필요\\n\\n        # 주파수 대역별로 PSD 계산\\n        for band in bands:\\n            band_power = compute_band_power(raw, band)\\n            # 열 이름 생성 (예: Channel_1_10-12Hz)\\n            column_name = f\\'{ch_name}_{band[0]}-{band[1]}Hz\\'\\n            feature_dict[column_name] = band_power\\n\\n    # 최종 데이터프레임 생성\\n    features = pd.DataFrame([feature_dict])\\n\\n    return features\\n'"
      ]
     },
     "execution_count": 6,
     "metadata": {},
     "output_type": "execute_result"
    }
   ],
   "execution_count": 6
  },
  {
   "metadata": {
    "ExecuteTime": {
     "end_time": "2024-09-15T06:58:48.634033Z",
     "start_time": "2024-09-15T06:58:48.628955Z"
    }
   },
   "cell_type": "code",
   "source": [
    "def csv_to_json_csp(df, csp, window_size, selected_columns, labels):\n",
    "    \"\"\"\n",
    "    Convert a DataFrame of EEG data into a JSON format suitable for GPT-3 davinci.\n",
    "    :param df: Data converted to pandas DataFrame from the original csv file\n",
    "    :param window_size: Window size to divide EEG data\n",
    "    :param selected_columns: EEG channel to use (provide a list with frequency bands)\n",
    "    :param labels: Label for each window (provide a list, left, right, top, bottom)\n",
    "    :return: List of data in JSON format\n",
    "    \"\"\"\n",
    "    json_array = []\n",
    "\n",
    "    # EEG 채널 이름을 selected_columns에 매핑합니다.\n",
    "    channel_names = ['FCz', 'C3', 'Cz', 'C4', 'CP3']  # 각각 0, 1, 2, 3에 대응\n",
    "\n",
    "    for start in range(0, len(df) - window_size + 1, window_size):\n",
    "        # window_data = df.iloc[start:start + window_size, :]  # 전체 데이터를 가져옴\n",
    "        label = str(int(labels[start]))  # Assuming labels are provided for each window\n",
    "\n",
    "        # Extract features using the updated extract_features function\n",
    "        # features = extract_features(window_data, selected_columns)  # feature extraction\n",
    "        features = pd.DataFrame(csp[int(start / 1000)]).T  # cspdata 가져옴\n",
    "        # features와 cspdata 가로 방향으로 합침\n",
    "        # features = pd.concat([features, cspdata], axis=1)\n",
    "        features_dict = features.to_dict('index')[0]  # DataFrame to dictionary\n",
    "\n",
    "        # Generate features_dict_with_keys\n",
    "        features_dict_with_keys = {}\n",
    "        \"\"\"\n",
    "        for i, (channel_idx, bands) in enumerate(selected_columns):\n",
    "            key = f\"at channel {channel_names[i]}\"\n",
    "            features_list = []\n",
    "            for band in bands if isinstance(bands, list) else [bands]:\n",
    "                band_key = f\"{channel_names[i]}_{band[0]}-{band[1]}Hz\"\n",
    "                power_value = features_dict[band_key]\n",
    "\n",
    "                # Flatten the power value if it's an array\n",
    "                if isinstance(power_value, np.ndarray):\n",
    "                    power_value = power_value.item()  # Convert array to scalar if it's 1D\n",
    "                features_list.append(f\"Power in {band[0]}-{band[1]} Hz: {power_value}\")\n",
    "            features_dict_with_keys[key] = features_list\n",
    "            \n",
    "        \"\"\"\n",
    "        # Set the CSP 값을 라벨에 맞게 프롬프트에 추가\n",
    "        csp_key = f\"CSP values: 0: {features.values[0][0]}, 1: {features.values[0][1]}\"\n",
    "\n",
    "        # Set the GPT's role\n",
    "        system_message = \"Look at the feature values of a given EEG electrode and determine which label the data belongs to. The result should always provide only integer label values.\"\n",
    "\n",
    "        # Prompt explaining the feature information\n",
    "        prompt = f\"Quantitative EEG: In a {window_size / 250} second period,\"\n",
    "        features_str = \"\"\n",
    "        \"\"\"\n",
    "        for key, value in features_dict_with_keys.items():\n",
    "            features_str += f\"{key}:\\n\"\n",
    "            features_str += \"\\n\".join([f\"  {v}\" for v in value])\n",
    "            features_str += \"\\n\"\n",
    "        \"\"\"\n",
    "\n",
    "        # CSP 값을 프롬프트에 포함\n",
    "        combined_prompt = f\"{prompt}\\n{features_str}\\n{csp_key}\\n\"\n",
    "\n",
    "        # Convert the data to JSON format\n",
    "        json_entry = {\n",
    "            \"messages\": [\n",
    "                {\"role\": \"system\", \"content\": system_message},\n",
    "                {\"role\": \"user\", \"content\": combined_prompt},\n",
    "                {\"role\": \"assistant\", \"content\": label}\n",
    "            ]\n",
    "        }\n",
    "\n",
    "        json_array.append(json_entry)\n",
    "\n",
    "    return json_array"
   ],
   "id": "46000269edc9517a",
   "outputs": [],
   "execution_count": 7
  },
  {
   "metadata": {
    "ExecuteTime": {
     "end_time": "2024-09-15T06:58:48.809556Z",
     "start_time": "2024-09-15T06:58:48.806549Z"
    }
   },
   "cell_type": "code",
   "source": [
    "def json_to_jsonl(json_dir, jsonl_dir):\n",
    "    \"\"\"\n",
    "    Convert JSON file to JSONL file\n",
    "    :param json_dir: JSON file path to load\n",
    "    :param jsonl_dir: JSONL file path to save\n",
    "    \"\"\"\n",
    "    json_data = load_json(json_dir)\n",
    "    save_to_jsonl(json_data, jsonl_dir)\n",
    "\n",
    "    print(f\"Converted {json_dir} to {jsonl_dir}\")\n",
    "\n",
    "\n",
    "# Load JSON file\n",
    "def load_json(file_path):\n",
    "    with open(file_path, 'r', encoding='utf-8') as file:\n",
    "        return json.load(file)\n",
    "\n",
    "\n",
    "# Function to save as JSONL file (convert completion value to string)\n",
    "def save_to_jsonl(data, file_path):\n",
    "    with open(file_path, 'w', encoding='utf-8') as jsonl_file:\n",
    "        for entry in data:\n",
    "            jsonl_line = json.dumps(entry, ensure_ascii=False)\n",
    "            jsonl_file.write(jsonl_line + '\\n')"
   ],
   "id": "fd271ed74603efe7",
   "outputs": [],
   "execution_count": 8
  },
  {
   "metadata": {
    "ExecuteTime": {
     "end_time": "2024-09-15T06:58:49.368701Z",
     "start_time": "2024-09-15T06:58:49.364986Z"
    }
   },
   "cell_type": "code",
   "source": [
    "def pipeline(csv_path, csp_path, json_path, jsonl_path, window_size, selected_columns):\n",
    "    \"\"\"\n",
    "    Load the EEG data csv file, convert the preprocessed data to json format, and convert the json to jsonl format and save it.\n",
    "    :param csv_path:  EEG data csv file path\n",
    "    :param json_path:  json file path to save the preprocessed data\n",
    "    :param jsonl_path:  jsonl file path to save the preprocessed data\n",
    "    :param window_size:  window size of EEG data\n",
    "    :param selected_columns:  EEG channel to use\n",
    "    \"\"\"\n",
    "    # EEG(csv) load\n",
    "    data, label = load_eeg_data(csv_path)\n",
    "\n",
    "    # Preprocess the loaded data and convert it to json format\n",
    "    json_data = csv_to_json_csp(data, csp_path, window_size, selected_columns, label)\n",
    "\n",
    "    # Save the converted data to the specified path\n",
    "    with open(json_path, 'w') as json_file:\n",
    "        json.dump(json_data, json_file, indent=4)\n",
    "    print(f\"Data has been successfully saved to {json_path}\")\n",
    "\n",
    "    # Convert the preprocessed json to jsonl format and save it\n",
    "    json_to_jsonl(json_path, jsonl_path)"
   ],
   "id": "f5ced2c15b58c84d",
   "outputs": [],
   "execution_count": 9
  },
  {
   "metadata": {
    "ExecuteTime": {
     "end_time": "2024-09-15T07:00:45.927731Z",
     "start_time": "2024-09-15T07:00:45.789309Z"
    }
   },
   "cell_type": "code",
   "source": [
    "base_path = '/Users/imdohyeon/Library/CloudStorage/GoogleDrive-dhlim1598@gmail.com/공유 드라이브/4N_PKNU/Project/EEG-LLM/Dataset/subject 1 data (k3b)/down sampling X ver/label45/'\n",
    "\n",
    "train_csv_path = base_path + 'train.csv'\n",
    "val_csv_path = base_path + 'val.csv'\n",
    "\n",
    "train_json_path = base_path + 'csponly/json/train_csponly.json'\n",
    "train_jsonl_path = base_path + 'csponly/jsonl/train_csponly.jsonl'\n",
    "\n",
    "val_json_path = base_path + 'csponly/json/val_csponly.json'\n",
    "val_jsonl_path = base_path + 'csponly/jsonl/val_csponly.jsonl'\n",
    "\n",
    "train_csp_path = base_path + 'csp4/class_4_vs_5_train_features.csv'\n",
    "val_csp_path = base_path + 'csp4/class_4_vs_5_val_features.csv'\n",
    "\n",
    "train_csp, train_csp_label = load_eeg_data(train_csp_path)\n",
    "val_csp, val_csp_label = load_eeg_data(val_csp_path)\n",
    "train_csp = train_csp.to_numpy()\n",
    "val_csp = val_csp.to_numpy()\n",
    "\n",
    "window_size = 1000\n",
    "# FCz=0, C3=2, Cz=3, C4=4\n",
    "# selected_columns = [0, 2, 3, 4]  # EEG channels to use, selected by fisher ratio\n",
    "selected_columns = [\n",
    "    [0, [(10, 12), (12, 14)]],  # FCz\n",
    "    [2, [(20, 22), (22, 24)]],  # C3\n",
    "    [3, [(8, 10)]],  # Cz\n",
    "    [4, [(20, 22), (22, 24)]],  # C4\n",
    "    [5, [(28, 30)]],  # CP3\n",
    "]\n",
    "\n",
    "pipeline(train_csv_path, train_csp, train_json_path, train_jsonl_path, window_size, selected_columns)\n",
    "pipeline(val_csv_path, val_csp, val_json_path, val_jsonl_path, window_size, selected_columns)"
   ],
   "id": "6e181991170a74fb",
   "outputs": [
    {
     "name": "stdout",
     "output_type": "stream",
     "text": [
      "Data has been successfully saved to /Users/imdohyeon/Library/CloudStorage/GoogleDrive-dhlim1598@gmail.com/공유 드라이브/4N_PKNU/Project/EEG-LLM/Dataset/subject 1 data (k3b)/down sampling X ver/label45/csponly/json/train_csponly.json\n",
      "Converted /Users/imdohyeon/Library/CloudStorage/GoogleDrive-dhlim1598@gmail.com/공유 드라이브/4N_PKNU/Project/EEG-LLM/Dataset/subject 1 data (k3b)/down sampling X ver/label45/csponly/json/train_csponly.json to /Users/imdohyeon/Library/CloudStorage/GoogleDrive-dhlim1598@gmail.com/공유 드라이브/4N_PKNU/Project/EEG-LLM/Dataset/subject 1 data (k3b)/down sampling X ver/label45/csponly/jsonl/train_csponly.jsonl\n",
      "Data has been successfully saved to /Users/imdohyeon/Library/CloudStorage/GoogleDrive-dhlim1598@gmail.com/공유 드라이브/4N_PKNU/Project/EEG-LLM/Dataset/subject 1 data (k3b)/down sampling X ver/label45/csponly/json/val_csponly.json\n",
      "Converted /Users/imdohyeon/Library/CloudStorage/GoogleDrive-dhlim1598@gmail.com/공유 드라이브/4N_PKNU/Project/EEG-LLM/Dataset/subject 1 data (k3b)/down sampling X ver/label45/csponly/json/val_csponly.json to /Users/imdohyeon/Library/CloudStorage/GoogleDrive-dhlim1598@gmail.com/공유 드라이브/4N_PKNU/Project/EEG-LLM/Dataset/subject 1 data (k3b)/down sampling X ver/label45/csponly/jsonl/val_csponly.jsonl\n"
     ]
    }
   ],
   "execution_count": 14
  },
  {
   "metadata": {
    "ExecuteTime": {
     "end_time": "2024-09-15T06:58:28.900486Z",
     "start_time": "2024-09-15T06:58:28.900423Z"
    }
   },
   "cell_type": "code",
   "source": "",
   "id": "d93e935a1a508ed8",
   "outputs": [],
   "execution_count": null
  }
 ],
 "metadata": {
  "kernelspec": {
   "display_name": "Python 3",
   "language": "python",
   "name": "python3"
  },
  "language_info": {
   "codemirror_mode": {
    "name": "ipython",
    "version": 2
   },
   "file_extension": ".py",
   "mimetype": "text/x-python",
   "name": "python",
   "nbconvert_exporter": "python",
   "pygments_lexer": "ipython2",
   "version": "2.7.6"
  }
 },
 "nbformat": 4,
 "nbformat_minor": 5
}
