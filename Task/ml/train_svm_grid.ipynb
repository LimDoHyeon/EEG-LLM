{
 "cells": [
  {
   "cell_type": "code",
   "id": "initial_id",
   "metadata": {
    "collapsed": true,
    "ExecuteTime": {
     "end_time": "2024-09-06T12:32:44.313006Z",
     "start_time": "2024-09-06T12:32:44.307691Z"
    }
   },
   "source": [
    "import mne\n",
    "import numpy as np\n",
    "import pandas as pd\n",
    "from sklearn.preprocessing import StandardScaler\n",
    "from sklearn.svm import SVC\n",
    "from sklearn.model_selection import GridSearchCV\n",
    "from sklearn.metrics import classification_report, accuracy_score, roc_auc_score\n",
    "import matplotlib.pyplot as plt\n",
    "from Preprocessing.feature_extraction import load_eeg_data, compute_band_power, extract_features\n",
    "mne.set_log_level('error')"
   ],
   "outputs": [],
   "execution_count": 8
  },
  {
   "metadata": {
    "ExecuteTime": {
     "end_time": "2024-09-06T12:32:44.324839Z",
     "start_time": "2024-09-06T12:32:44.315289Z"
    }
   },
   "cell_type": "code",
   "source": [
    "def pipeline(base_path):\n",
    "    train_dir = base_path + 'train4ml.csv'\n",
    "    test_dir = base_path + 'test4ml.csv'\n",
    "    val_dir = base_path + 'val4ml.csv'\n",
    "    data_train, label_train = load_eeg_data(train_dir)\n",
    "    data_val, label_val = load_eeg_data(val_dir)   \n",
    "    data_test, label_test = load_eeg_data(test_dir)\n",
    "    \n",
    "    train_X = data_train\n",
    "    train_y = label_train\n",
    "    val_X = data_val\n",
    "    val_y = label_val\n",
    "    test_X = data_test\n",
    "    test_y = label_test\n",
    "    \n",
    "    # Scaling\n",
    "    scaler = StandardScaler()\n",
    "    train_X = scaler.fit_transform(train_X)\n",
    "    val_X = scaler.transform(val_X)\n",
    "    test_X = scaler.transform(test_X)\n",
    "    \n",
    "    # Train through GridSearchCV\n",
    "    svm = SVC()\n",
    "    param_grid = {\n",
    "        'C': [0.1, 1, 10, 50, 80, 100, 150],  # Reduced range of the regularization parameter\n",
    "        'gamma': ['scale', 0.01, 0.1, 1],  # Key gamma values with a focus on potential sweet spots\n",
    "        'kernel': ['linear', 'rbf'],  # Focus on the most commonly effective kernels\n",
    "        'class_weight': [None, 'balanced'],  # Option to handle imbalanced classes\n",
    "    }\n",
    "\n",
    "    grid_search = GridSearchCV(svm, param_grid, cv=5, scoring='accuracy', verbose=2, n_jobs=-1)\n",
    "    grid_search.fit(train_X, train_y)  # Fit the model on the training data\n",
    "\n",
    "    # Print the best parameters and the best score from the validation process\n",
    "    print(\"Best parameters found: \", grid_search.best_params_)\n",
    "    print(\"Best cross-validation accuracy: {:.2f}%\".format(grid_search.best_score_ * 100))\n",
    "    \n",
    "    # (Validation) Use the best model to make predictions on the validation set\n",
    "    best_model = grid_search.best_estimator_\n",
    "    val_predictions = best_model.predict(val_X)\n",
    "\n",
    "    # Evaluate the model on the validation set\n",
    "    print(\"\\nValidation Set Performance:\")\n",
    "    print(\"Validation Accuracy: {:.2f}%\".format(accuracy_score(val_y, val_predictions) * 100))\n",
    "    print(\"Validation ROC-AUC Score: {:.2f}\".format(roc_auc_score(val_y, val_predictions)))\n",
    "    print(\"\\nValidation Classification Report:\")\n",
    "    print(classification_report(val_y, val_predictions))\n",
    "    \n",
    "    # (Test) After validation, use the best model to predict on the test set\n",
    "    test_predictions = best_model.predict(test_X)\n",
    "\n",
    "    # Evaluate the model on the test set\n",
    "    print(\"\\nTest Set Performance:\")\n",
    "    print(\"Test Accuracy: {:.2f}%\".format(accuracy_score(test_y, test_predictions) * 100))\n",
    "    print(\"Test ROC-AUC Score: {:.2f}\".format(roc_auc_score(test_y, test_predictions)))\n",
    "    print(\"\\nTest Classification Report:\")\n",
    "    print(classification_report(test_y, test_predictions))"
   ],
   "id": "241a152367f5966c",
   "outputs": [],
   "execution_count": 9
  },
  {
   "metadata": {
    "ExecuteTime": {
     "end_time": "2024-09-06T12:32:44.329186Z",
     "start_time": "2024-09-06T12:32:44.326343Z"
    }
   },
   "cell_type": "code",
   "source": [
    "# Load data\n",
    "base_path_1 = 'your_path'\n",
    "base_path_2 = 'your_path'\n",
    "base_path_3 = 'your_path'\n",
    "base_path_4 = 'your_path'"
   ],
   "id": "dd239b6504b6a8de",
   "outputs": [],
   "execution_count": 10
  },
  {
   "metadata": {},
   "cell_type": "code",
   "outputs": [],
   "execution_count": null,
   "source": "train_svm_1 = pipeline(base_path_1)",
   "id": "c7a58370cec564f6"
  },
  {
   "metadata": {},
   "cell_type": "code",
   "outputs": [],
   "execution_count": null,
   "source": "train_svm_2 = pipeline(base_path_2)",
   "id": "8f8f5b233bd26680"
  },
  {
   "metadata": {},
   "cell_type": "code",
   "outputs": [],
   "execution_count": null,
   "source": "train_svm_3 = pipeline(base_path_3)",
   "id": "6cd322c055ca735e"
  },
  {
   "metadata": {},
   "cell_type": "code",
   "outputs": [],
   "execution_count": null,
   "source": "train_svm_4 = pipeline(base_path_4)",
   "id": "f2a55c7901920c1d"
  }
 ],
 "metadata": {
  "kernelspec": {
   "display_name": "Python 3",
   "language": "python",
   "name": "python3"
  },
  "language_info": {
   "codemirror_mode": {
    "name": "ipython",
    "version": 2
   },
   "file_extension": ".py",
   "mimetype": "text/x-python",
   "name": "python",
   "nbconvert_exporter": "python",
   "pygments_lexer": "ipython2",
   "version": "2.7.6"
  }
 },
 "nbformat": 4,
 "nbformat_minor": 5
}
