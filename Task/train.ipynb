{
 "cells": [
  {
   "metadata": {
    "ExecuteTime": {
     "end_time": "2024-09-15T07:11:54.942230Z",
     "start_time": "2024-09-15T07:11:54.470439Z"
    }
   },
   "cell_type": "code",
   "source": [
    "import os\n",
    "from openai import OpenAI\n",
    "import openai\n",
    "import json\n",
    "from Preprocessing.feature_extraction import load_eeg_data"
   ],
   "id": "da23e13439f09fee",
   "outputs": [],
   "execution_count": 1
  },
  {
   "metadata": {
    "ExecuteTime": {
     "end_time": "2024-09-15T07:11:54.959689Z",
     "start_time": "2024-09-15T07:11:54.943554Z"
    }
   },
   "cell_type": "code",
   "source": [
    "openai.api_key = os.getenv(\"OPENAI_API_KEY\")  # You have set your own environment variable\n",
    "client = OpenAI()"
   ],
   "id": "f851ce7addea6893",
   "outputs": [],
   "execution_count": 2
  },
  {
   "metadata": {
    "ExecuteTime": {
     "end_time": "2024-09-15T07:13:08.297764Z",
     "start_time": "2024-09-15T07:13:08.292825Z"
    }
   },
   "cell_type": "code",
   "source": [
    "def create_file(train_jsonl_dir, val_jsonl_dir):\n",
    "    \"\"\"\n",
    "    Create a file in the OpenAI API\n",
    "    After creating the file, you should see the file ID(train/test) in the website(platform.openai.com).\n",
    "    :param train_jsonl_dir: A directory of the train data in jsonl format\n",
    "    :param val_jsonl_dir: A directory of the test data in jsonl format\n",
    "    :return:\n",
    "    \"\"\"\n",
    "    # load train data\n",
    "    client.files.create(\n",
    "        file=open(train_jsonl_dir, 'rb'),\n",
    "        purpose='fine-tune'\n",
    "    )\n",
    "    print(f\"Loaded {train_jsonl_dir}\")\n",
    "\n",
    "    # load validation data\n",
    "    client.files.create(\n",
    "        file=open(val_jsonl_dir, 'rb'),\n",
    "        purpose='fine-tune'\n",
    "    )\n",
    "    print(f\"Loaded {val_jsonl_dir}\")"
   ],
   "id": "218ef2ad2720fb02",
   "outputs": [],
   "execution_count": 6
  },
  {
   "metadata": {
    "ExecuteTime": {
     "end_time": "2024-09-15T07:13:32.861843Z",
     "start_time": "2024-09-15T07:13:32.858644Z"
    }
   },
   "cell_type": "code",
   "source": [
    "base_path = 'your_base_path'\n",
    "train_jsonl_dir = base_path + 'jsonl/your_train_jsonl.jsonl'\n",
    "val_jsonl_dir = base_path + 'jsonl/your_val_jsonl.jsonl'"
   ],
   "id": "f12393506933aade",
   "outputs": [],
   "execution_count": 13
  },
  {
   "metadata": {},
   "cell_type": "code",
   "outputs": [],
   "execution_count": null,
   "source": "create_file(train_jsonl_dir, val_jsonl_dir)",
   "id": "9eeedeb1c77989b8"
  },
  {
   "metadata": {},
   "cell_type": "code",
   "outputs": [],
   "execution_count": 23,
   "source": [
    "window_size = 1000\n",
    "selected_columns = [\n",
    "        [0, [(10, 12), (12, 14)]],  # FCz\n",
    "        [2, [(20, 22), (22, 24)]],  # C3\n",
    "        [3, [(8, 10)]],  # Cz\n",
    "        [4, [(20, 22), (22, 24)]],  # C4\n",
    "        [5, [(28, 30)]],  # CP3\n",
    "    ]"
   ],
   "id": "207cfe54d960e2a2"
  },
  {
   "metadata": {
    "ExecuteTime": {
     "end_time": "2024-09-06T06:13:20.594591Z",
     "start_time": "2024-09-06T06:13:20.590623Z"
    }
   },
   "cell_type": "code",
   "source": [
    "training_file_1 = 'file-your_training_file_1'  # Ensure this should be checked in the website(platform.openai.com)\n",
    "val_file_1 = 'file-your_val_file_1'  # Ensure this should be checked in the website(platform.openai.com)\n",
    "\n",
    "training_file_2 = 'file-your_training_file_2'  # Ensure this should be checked in the website(platform.openai.com)\n",
    "val_file_2 = 'file-your_val_file_2'  # Ensure this should be checked in the website(platform.openai.com)\n",
    "\n",
    "training_file_3 = 'file-your_training_file_3'  # Ensure this should be checked in the website(platform.openai.com)\n",
    "val_file_3 = 'file-your_val_file_3'  # Ensure this should be checked in the website(platform.openai.com)\n",
    "\n",
    "training_file_4 = 'file-your_training_file_4'  # Ensure this should be checked in the website(platform.openai.com)\n",
    "val_file_4 = 'file-your_val_file_4'  # Ensure this should be checked in the website(platform.openai.com)\n",
    "\n",
    "model = 'gpt-4o-2024-08-06'"
   ],
   "id": "3b0b87ded26ff4d3",
   "outputs": [],
   "execution_count": 18
  },
  {
   "metadata": {},
   "cell_type": "markdown",
   "source": "We did a binary classification for each label on the Motor Image EEG data with 4 labels. Because of this, there are a total of 4 different datasets, and we created a total of 4 models. If you want to design a GPT fine-tuning model that performs multi-class classification, you can change the code accordingly.",
   "id": "bd856fd59594a058"
  },
  {
   "metadata": {},
   "cell_type": "markdown",
   "source": [
    "### FYI\n",
    "<p>The hyperparameters are automatically set by OpenAI during fine tuning without having to set them separately.<br>You can set them yourself if you want.</p>"
   ],
   "id": "1396ec862bacabb4"
  },
  {
   "metadata": {
    "ExecuteTime": {
     "end_time": "2024-09-06T06:13:23.777214Z",
     "start_time": "2024-09-06T06:13:23.773298Z"
    }
   },
   "cell_type": "code",
   "source": [
    "def train(training_file, val_file, model):\n",
    "    \"\"\"\n",
    "    Fine-tuning the GPT model.\n",
    "    After training, you should check the name of the model in the website(platform.openai.com).\n",
    "    :param training_file: The ID of the training file\n",
    "    :param val_file: The ID of the validation file\n",
    "    :param model: anything you want(davinci-002 / gpt-3.5-turbo / and so on)\n",
    "    \"\"\"\n",
    "    # start fine-tuning\n",
    "    client.fine_tuning.jobs.create(\n",
    "        training_file=training_file,\n",
    "        validation_file=val_file,\n",
    "        model=model\n",
    "        # default=auto, thus it doesn't need to be specified\n",
    "        # hyperparameters={\n",
    "        #     'n_epochs':10,\n",
    "        #     'batch_size':16,\n",
    "        #     'learning_rate_multiplier':1e-4\n",
    "        # }\n",
    "    )\n",
    "\n",
    "    print(\"Fine-tuning started.\")"
   ],
   "id": "a205a6c5284a685",
   "outputs": [],
   "execution_count": 19
  },
  {
   "metadata": {},
   "cell_type": "markdown",
   "source": [
    "### FYI\n",
    "<p>OpenAI supports up to two GPT fine-tuning at a time.<br>That's the reason that I divided the training cell into two parts.</p>"
   ],
   "id": "c2e013b8d9cd5820"
  },
  {
   "metadata": {
    "ExecuteTime": {
     "end_time": "2024-09-06T06:13:32.658643Z",
     "start_time": "2024-09-06T06:13:28.988578Z"
    }
   },
   "cell_type": "code",
   "source": [
    "train(training_file_1, val_file_1, model)\n",
    "train(training_file_2, val_file_2, model)"
   ],
   "id": "e532a9ed79a457e4",
   "outputs": [
    {
     "name": "stdout",
     "output_type": "stream",
     "text": [
      "Fine-tuning started.\n",
      "Fine-tuning started.\n"
     ]
    }
   ],
   "execution_count": 20
  },
  {
   "metadata": {},
   "cell_type": "code",
   "outputs": [],
   "execution_count": null,
   "source": [
    "train(training_file_3, val_file_3, model)\n",
    "train(training_file_4, val_file_4, model)"
   ],
   "id": "e70a6f03082c60ea"
  },
  {
   "metadata": {},
   "cell_type": "code",
   "outputs": [],
   "execution_count": null,
   "source": "",
   "id": "6442efbea60101c6"
  }
 ],
 "metadata": {
  "kernelspec": {
   "display_name": "Python 3",
   "language": "python",
   "name": "python3"
  },
  "language_info": {
   "codemirror_mode": {
    "name": "ipython",
    "version": 2
   },
   "file_extension": ".py",
   "mimetype": "text/x-python",
   "name": "python",
   "nbconvert_exporter": "python",
   "pygments_lexer": "ipython2",
   "version": "2.7.6"
  }
 },
 "nbformat": 4,
 "nbformat_minor": 5
}
