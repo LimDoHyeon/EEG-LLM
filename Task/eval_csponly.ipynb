{
 "cells": [
  {
   "metadata": {
    "ExecuteTime": {
     "end_time": "2024-09-15T07:58:14.935383Z",
     "start_time": "2024-09-15T07:58:14.933255Z"
    }
   },
   "cell_type": "code",
   "source": [
    "import os\n",
    "import openai\n",
    "from openai import OpenAI\n",
    "from Preprocessing.feature_extraction import load_eeg_data\n",
    "# from Preprocessing.csv_to_json_4o import csv_to_json_without_label\n",
    "from sklearn.metrics import roc_auc_score, f1_score, accuracy_score\n",
    "import pandas as pd"
   ],
   "id": "d3ac92b3a7a6ae3e",
   "outputs": [],
   "execution_count": 6
  },
  {
   "cell_type": "code",
   "id": "initial_id",
   "metadata": {
    "collapsed": true,
    "ExecuteTime": {
     "end_time": "2024-09-15T07:58:20.899760Z",
     "start_time": "2024-09-15T07:58:20.891363Z"
    }
   },
   "source": [
    "def use_model(msg, model_id):\n",
    "    completion = client.chat.completions.create(\n",
    "        model=model_id,\n",
    "        messages=msg\n",
    "    )\n",
    "    return completion.choices[0].message.content\n",
    "\n",
    "\n",
    "def evaluate(data, csp, label, window_size, selected_columns, model_id):\n",
    "    \"\"\"\n",
    "    Process :\n",
    "    1. Receive test data (csv) as a parameter\n",
    "    2. Preprocess and convert it into json format, input it into gpt one task at a time\n",
    "    3. Save the completion of gpt to the buffer\n",
    "    4. Collect the completions in the buffer and input them into F1 Score and Kappa Coefficient with the actual label\n",
    "    5. Print the result\n",
    "    \"\"\"\n",
    "    model_pred = []\n",
    "    counted_label = [int(label[i]) for i in range(0, len(label), window_size)]\n",
    "\n",
    "    # Get responses(prediction) from the model\n",
    "    json_data = csv_to_json_csp_without_label(data, csp, window_size, selected_columns)\n",
    "    for i in range(len(json_data)):\n",
    "        response = use_model(json_data[i]['messages'], model_id)\n",
    "        print(i + 1, '/', str(len(json_data)), 'epochs completed : ', response, '/', counted_label[i])\n",
    "        model_pred.append(response)\n",
    "\n",
    "    model_pred = [int(pred) for pred in model_pred if pred]\n",
    "    print('length of model_pred : ', len(model_pred))\n",
    "\n",
    "    # Calculate Accuracy, F1 Score, Kappa Coefficient\n",
    "    accuracy = accuracy_score(counted_label, model_pred)\n",
    "    f1 = f1_score(counted_label, model_pred, average='weighted')\n",
    "    rocauc = roc_auc_score(counted_label, model_pred)\n",
    "\n",
    "    print('Accuracy : {0:.4f}'.format(accuracy))\n",
    "    print('F1 Score : {0:.4f}'.format(f1))\n",
    "    print('ROC-AUC Score : {0:.4f}'.format(rocauc))"
   ],
   "outputs": [],
   "execution_count": 7
  },
  {
   "metadata": {
    "ExecuteTime": {
     "end_time": "2024-09-15T07:58:21.105613Z",
     "start_time": "2024-09-15T07:58:21.098185Z"
    }
   },
   "cell_type": "code",
   "source": [
    "def csv_to_json_csp_without_label(df, csp, window_size, selected_columns):\n",
    "    \"\"\"\n",
    "    Convert a DataFrame of EEG data into a JSON format suitable for GPT-3 davinci.\n",
    "    :param df: Data converted to pandas DataFrame from the original csv file\n",
    "    :param window_size: Window size to divide EEG data\n",
    "    :param selected_columns: EEG channel to use (provide a list with frequency bands)\n",
    "    :param labels: Label for each window (provide a list, left, right, top, bottom)\n",
    "    :return: List of data in JSON format\n",
    "    \"\"\"\n",
    "    json_array = []\n",
    "\n",
    "    # EEG 채널 이름을 selected_columns에 매핑합니다.\n",
    "    channel_names = ['FCz', 'C3', 'Cz', 'C4', 'CP3']  # 각각 0, 1, 2, 3에 대응\n",
    "\n",
    "    for start in range(0, len(df) - window_size + 1, window_size):\n",
    "        # Extract features using the updated extract_features function\n",
    "        # features = extract_features(window_data, selected_columns)  # feature extraction\n",
    "        features = pd.DataFrame(csp[int(start / 1000)]).T  # cspdata 가져옴\n",
    "        features_dict = features.to_dict('index')[0]  # DataFrame to dictionary\n",
    "\n",
    "        # Set the CSP 값을 라벨에 맞게 프롬프트에 추가\n",
    "        csp_key = f\"CSP values: 0: {features.values[0][0]}, 1: {features.values[0][1]}\"\n",
    "\n",
    "        # Set the GPT's role\n",
    "        system_message = \"Look at the feature values of a given EEG electrode and determine which label the data belongs to. The result should always provide only integer label values.\"\n",
    "\n",
    "        # Prompt explaining the feature information\n",
    "        prompt = f\"Quantitative EEG: In a {window_size / 250} second period,\"\n",
    "        features_str = \"\"\n",
    "        \"\"\"\n",
    "        for key, value in features_dict_with_keys.items():\n",
    "            features_str += f\"{key}:\\n\"\n",
    "            features_str += \"\\n\".join([f\"  {v}\" for v in value])\n",
    "            features_str += \"\\n\"\n",
    "        \"\"\"\n",
    "\n",
    "        # CSP 값을 프롬프트에 포함\n",
    "        combined_prompt = f\"{prompt}\\n{features_str}\\n{csp_key}\\n\"\n",
    "\n",
    "        # Convert the data to JSON format\n",
    "        json_entry = {\n",
    "            \"messages\": [\n",
    "                {\"role\": \"system\", \"content\": system_message},\n",
    "                {\"role\": \"user\", \"content\": combined_prompt},\n",
    "            ]\n",
    "        }\n",
    "\n",
    "        json_array.append(json_entry)\n",
    "\n",
    "    return json_array"
   ],
   "id": "8e409d24aaebc4d6",
   "outputs": [],
   "execution_count": 8
  },
  {
   "metadata": {
    "ExecuteTime": {
     "end_time": "2024-09-15T08:03:46.228844Z",
     "start_time": "2024-09-15T08:03:26.667138Z"
    }
   },
   "cell_type": "code",
   "source": [
    "base_path = 'your_path'\n",
    "test_csv = base_path + 'test.csv'\n",
    "test_csp = base_path + 'csp4/your_csp.csv'\n",
    "\n",
    "window_size = 1000\n",
    "selected_columns = [\n",
    "    [0, [(10, 12), (12, 14)]],  # FCz\n",
    "    [2, [(20, 22), (22, 24)]],  # C3\n",
    "    [3, [(8, 10)]],  # Cz\n",
    "    [4, [(20, 22), (22, 24)]],  # C4\n",
    "    [5, [(28, 30)]],  # CP3\n",
    "]\n",
    "\n",
    "# Evaluate the fine-tuned model\n",
    "model_id = 'ft:gpt-4o-2024-08-06:your_model'  # Fine-tuned model id (check it in the openai dashboard)\n",
    "\n",
    "data, label = load_eeg_data(test_csv)\n",
    "test_csp, test_csp_label = load_eeg_data(test_csp)\n",
    "test_csp = test_csp.to_numpy()\n",
    "evaluate(data, test_csp, label, window_size, selected_columns, model_id)"
   ],
   "id": "9c38786bf1bb2ef1",
   "outputs": [
    {
     "name": "stdout",
     "output_type": "stream",
     "text": [
      "1 / 36 epochs completed :  5 / 4\n",
      "2 / 36 epochs completed :  5 / 4\n",
      "3 / 36 epochs completed :  5 / 4\n",
      "4 / 36 epochs completed :  5 / 5\n",
      "5 / 36 epochs completed :  5 / 5\n",
      "6 / 36 epochs completed :  4 / 4\n",
      "7 / 36 epochs completed :  5 / 5\n",
      "8 / 36 epochs completed :  5 / 4\n",
      "9 / 36 epochs completed :  5 / 4\n",
      "10 / 36 epochs completed :  5 / 4\n",
      "11 / 36 epochs completed :  5 / 4\n",
      "12 / 36 epochs completed :  4 / 4\n",
      "13 / 36 epochs completed :  4 / 4\n",
      "14 / 36 epochs completed :  5 / 5\n",
      "15 / 36 epochs completed :  5 / 5\n",
      "16 / 36 epochs completed :  5 / 4\n",
      "17 / 36 epochs completed :  5 / 5\n",
      "18 / 36 epochs completed :  5 / 5\n",
      "19 / 36 epochs completed :  5 / 4\n",
      "20 / 36 epochs completed :  5 / 4\n",
      "21 / 36 epochs completed :  5 / 5\n",
      "22 / 36 epochs completed :  5 / 5\n",
      "23 / 36 epochs completed :  4 / 4\n",
      "24 / 36 epochs completed :  5 / 4\n",
      "25 / 36 epochs completed :  5 / 4\n",
      "26 / 36 epochs completed :  5 / 4\n",
      "27 / 36 epochs completed :  4 / 4\n",
      "28 / 36 epochs completed :  5 / 4\n",
      "29 / 36 epochs completed :  5 / 5\n",
      "30 / 36 epochs completed :  5 / 4\n",
      "31 / 36 epochs completed :  5 / 4\n",
      "32 / 36 epochs completed :  4 / 5\n",
      "33 / 36 epochs completed :  5 / 5\n",
      "34 / 36 epochs completed :  4 / 4\n",
      "35 / 36 epochs completed :  4 / 5\n",
      "36 / 36 epochs completed :  4 / 5\n",
      "length of model_pred :  36\n",
      "Accuracy : 0.4722\n",
      "F1 Score : 0.4452\n",
      "ROC-AUC Score : 0.5292\n"
     ]
    }
   ],
   "execution_count": 12
  },
  {
   "metadata": {},
   "cell_type": "code",
   "outputs": [],
   "execution_count": null,
   "source": "",
   "id": "6e2e55a6ca768f69"
  },
  {
   "metadata": {},
   "cell_type": "code",
   "outputs": [],
   "execution_count": null,
   "source": "",
   "id": "a1b3c2d5624abcce"
  }
 ],
 "metadata": {
  "kernelspec": {
   "display_name": "Python 3",
   "language": "python",
   "name": "python3"
  },
  "language_info": {
   "codemirror_mode": {
    "name": "ipython",
    "version": 2
   },
   "file_extension": ".py",
   "mimetype": "text/x-python",
   "name": "python",
   "nbconvert_exporter": "python",
   "pygments_lexer": "ipython2",
   "version": "2.7.6"
  }
 },
 "nbformat": 4,
 "nbformat_minor": 5
}
